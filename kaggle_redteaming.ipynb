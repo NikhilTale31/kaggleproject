{
 "cells": [
  {
   "cell_type": "code",
   "execution_count": null,
   "metadata": {},
   "outputs": [],
   "source": [
    "# Setup cell\n",
    "!pip install -U transformers accelerate safetensors bitsandbytes huggingface_hub httpx pydantic tqdm\n",
    "\n",
    "# Check GPU availability\n",
    "!nvidia-smi\n",
    "\n",
    "# Clone the project\n",
    "!git clone https://github.com/NikhilTale31/kaggleproject.git\n",
    "%cd openai-project\n",
    "\n",
    "# Load requirements\n",
    "!pip install --target /kaggle/working/vendor -r requirementupdated.txt\n",
    "\n",
    "# Add vendor to sys.path\n",
    "import sys\n",
    "sys.path.append('/kaggle/working/vendor')\n",
    "\n",
    "# Import necessary libraries\n",
    "import torch\n",
    "from transformers import AutoModelForCausalLM, AutoTokenizer, BitsAndBytesConfig\n",
    "\n",
    "# Load the model\n",
    "model_id = 'openai/gpt-oss-20b'\n",
    "bnb_config = BitsAndBytesConfig(\n",
    "    load_in_4bit=True,\n",
    "    bnb_4bit_quant_type='nf4',\n",
    "    bnb_4bit_use_double_quant=True,\n",
    "    bnb_4bit_compute_dtype=torch.float16,\n",
    ")\n",
    "model = AutoModelForCausalLM.from_pretrained(\n",
    "    model_id,\n",
    "    quantization_config=bnb_config,\n",
    "    device_map='auto',\n",
    ")\n",
    "\n",
    "# Run the discovery scan\n",
    "!python run_discovery.py --mode quick --print-summary\n"
   ]
  }
 ],
 "metadata": {
  "kernelspec": {
   "display_name": "Python 3",
   "language": "python",
   "name": "python3"
  },
  "language_info": {
   "codemirror_mode": {
    "name": "ipython",
    "version": 3
   },
   "file_extension": ".py",
   "mimetype": "text/x-python",
   "name": "python",
   "nbconvert_exporter": "python",
   "pygments_lexer": "ipython3",
   "version": "3.8.5"
  }
 },
 "nbformat": 4,
 "nbformat_minor": 4
}
